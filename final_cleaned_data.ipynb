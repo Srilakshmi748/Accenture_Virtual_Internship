{
 "cells": [
  {
   "cell_type": "code",
   "execution_count": 1,
   "id": "d75c7e47",
   "metadata": {},
   "outputs": [],
   "source": [
    "import pandas as pd"
   ]
  },
  {
   "cell_type": "code",
   "execution_count": 2,
   "id": "49a7904a",
   "metadata": {},
   "outputs": [],
   "source": [
    "content = pd.read_csv(r\"C:\\Users\\Akula Srilakshmi\\Downloads\\Content.csv\")"
   ]
  },
  {
   "cell_type": "code",
   "execution_count": 3,
   "id": "af52cd8c",
   "metadata": {},
   "outputs": [],
   "source": [
    "df1 = pd.DataFrame(content)\n",
    "df1.drop(\"Unnamed: 0\", axis=1, inplace = True)"
   ]
  },
  {
   "cell_type": "code",
   "execution_count": 4,
   "id": "d47dc9d1",
   "metadata": {},
   "outputs": [
    {
     "name": "stdout",
     "output_type": "stream",
     "text": [
      "                               Content ID Content Type         Category\n",
      "0    97522e57-d9ab-4bd6-97bf-c24d952602d2        photo         Studying\n",
      "1    9f737e0a-3cdd-4d29-9d24-753f4e3be810        photo   healthy eating\n",
      "2    230c4e4d-70c3-461d-b42c-ec09396efb3f        photo   healthy eating\n",
      "3    356fff80-da4d-4785-9f43-bc1261031dc6        photo       technology\n",
      "4    01ab84dd-6364-4236-abbb-3f237db77180        video             food\n",
      "..                                    ...          ...              ...\n",
      "995  b4cef9ef-627b-41d7-a051-5961b0204ebb        video  public speaking\n",
      "996  7a79f4e4-3b7d-44dc-bdef-bc990740252c          GIF       technology\n",
      "997  435007a5-6261-4d8b-b0a4-55fdc189754b        audio         veganism\n",
      "998  4e4c9690-c013-4ee7-9e66-943d8cbd27b7          GIF          culture\n",
      "999  75d6b589-7fae-4a6d-b0d0-752845150e56        audio       technology\n",
      "\n",
      "[1000 rows x 3 columns]\n"
     ]
    }
   ],
   "source": [
    "print(df1)"
   ]
  },
  {
   "cell_type": "code",
   "execution_count": 5,
   "id": "87ae6641",
   "metadata": {},
   "outputs": [],
   "source": [
    "reactions = pd.read_csv(r\"C:\\Users\\Akula Srilakshmi\\Downloads\\Reactions.csv\")\n",
    "df2 = pd.DataFrame(reactions)\n",
    "df2.drop(\"Unnamed: 0\", axis=1, inplace = True)"
   ]
  },
  {
   "cell_type": "code",
   "execution_count": 6,
   "id": "81760417",
   "metadata": {},
   "outputs": [
    {
     "name": "stdout",
     "output_type": "stream",
     "text": [
      "                                 Content ID Reaction Type          Datetime\n",
      "0      97522e57-d9ab-4bd6-97bf-c24d952602d2       disgust  07-11-2020 09:43\n",
      "1      97522e57-d9ab-4bd6-97bf-c24d952602d2       dislike  17-06-2021 12:22\n",
      "2      97522e57-d9ab-4bd6-97bf-c24d952602d2        scared  18-04-2021 05:13\n",
      "3      97522e57-d9ab-4bd6-97bf-c24d952602d2       disgust  06-01-2021 19:13\n",
      "4      97522e57-d9ab-4bd6-97bf-c24d952602d2    interested  23-08-2020 12:25\n",
      "...                                     ...           ...               ...\n",
      "24568  75d6b589-7fae-4a6d-b0d0-752845150e56       dislike  27-06-2020 09:46\n",
      "24569  75d6b589-7fae-4a6d-b0d0-752845150e56     intrigued  16-02-2021 17:17\n",
      "24570  75d6b589-7fae-4a6d-b0d0-752845150e56    interested  12-09-2020 03:54\n",
      "24571  75d6b589-7fae-4a6d-b0d0-752845150e56       worried  04-11-2020 20:08\n",
      "24572  75d6b589-7fae-4a6d-b0d0-752845150e56       cherish  04-01-2021 04:55\n",
      "\n",
      "[24573 rows x 3 columns]\n"
     ]
    }
   ],
   "source": [
    "print(df2)"
   ]
  },
  {
   "cell_type": "code",
   "execution_count": 7,
   "id": "39bb7550",
   "metadata": {},
   "outputs": [],
   "source": [
    "reaction_types = pd.read_csv(r\"C:\\Users\\Akula Srilakshmi\\Downloads\\ReactionTypes.csv\")\n",
    "df3 = pd.DataFrame(reaction_types)\n",
    "df3.drop(\"Unnamed: 0\", axis=1, inplace = True)"
   ]
  },
  {
   "cell_type": "code",
   "execution_count": 8,
   "id": "95acc385",
   "metadata": {},
   "outputs": [
    {
     "name": "stdout",
     "output_type": "stream",
     "text": [
      "           Type Sentiment  Score\n",
      "0         heart  positive     60\n",
      "1          want  positive     70\n",
      "2       disgust  negative      0\n",
      "3          hate  negative      5\n",
      "4    interested  positive     30\n",
      "5   indifferent   neutral     20\n",
      "6          love  positive     65\n",
      "7    super love  positive     75\n",
      "8       cherish  positive     70\n",
      "9         adore  positive     72\n",
      "10         like  positive     50\n",
      "11      dislike  negative     10\n",
      "12    intrigued  positive     45\n",
      "13      peeking   neutral     35\n",
      "14       scared  negative     15\n",
      "15      worried  negative     12\n"
     ]
    }
   ],
   "source": [
    "print(df3)"
   ]
  },
  {
   "cell_type": "code",
   "execution_count": 9,
   "id": "1cb095ea",
   "metadata": {},
   "outputs": [],
   "source": [
    "df3.columns=[\"Reaction Type\",\"Sentiment\", \"Score\"]"
   ]
  },
  {
   "cell_type": "code",
   "execution_count": 10,
   "id": "bbfcbcf4",
   "metadata": {},
   "outputs": [
    {
     "data": {
      "text/html": [
       "<div>\n",
       "<style scoped>\n",
       "    .dataframe tbody tr th:only-of-type {\n",
       "        vertical-align: middle;\n",
       "    }\n",
       "\n",
       "    .dataframe tbody tr th {\n",
       "        vertical-align: top;\n",
       "    }\n",
       "\n",
       "    .dataframe thead th {\n",
       "        text-align: right;\n",
       "    }\n",
       "</style>\n",
       "<table border=\"1\" class=\"dataframe\">\n",
       "  <thead>\n",
       "    <tr style=\"text-align: right;\">\n",
       "      <th></th>\n",
       "      <th>Content ID</th>\n",
       "      <th>Reaction Type</th>\n",
       "      <th>Datetime</th>\n",
       "      <th>Content Type</th>\n",
       "      <th>Category</th>\n",
       "    </tr>\n",
       "  </thead>\n",
       "  <tbody>\n",
       "    <tr>\n",
       "      <th>0</th>\n",
       "      <td>97522e57-d9ab-4bd6-97bf-c24d952602d2</td>\n",
       "      <td>disgust</td>\n",
       "      <td>07-11-2020 09:43</td>\n",
       "      <td>photo</td>\n",
       "      <td>Studying</td>\n",
       "    </tr>\n",
       "    <tr>\n",
       "      <th>1</th>\n",
       "      <td>97522e57-d9ab-4bd6-97bf-c24d952602d2</td>\n",
       "      <td>dislike</td>\n",
       "      <td>17-06-2021 12:22</td>\n",
       "      <td>photo</td>\n",
       "      <td>Studying</td>\n",
       "    </tr>\n",
       "    <tr>\n",
       "      <th>2</th>\n",
       "      <td>97522e57-d9ab-4bd6-97bf-c24d952602d2</td>\n",
       "      <td>scared</td>\n",
       "      <td>18-04-2021 05:13</td>\n",
       "      <td>photo</td>\n",
       "      <td>Studying</td>\n",
       "    </tr>\n",
       "    <tr>\n",
       "      <th>3</th>\n",
       "      <td>97522e57-d9ab-4bd6-97bf-c24d952602d2</td>\n",
       "      <td>disgust</td>\n",
       "      <td>06-01-2021 19:13</td>\n",
       "      <td>photo</td>\n",
       "      <td>Studying</td>\n",
       "    </tr>\n",
       "    <tr>\n",
       "      <th>4</th>\n",
       "      <td>97522e57-d9ab-4bd6-97bf-c24d952602d2</td>\n",
       "      <td>interested</td>\n",
       "      <td>23-08-2020 12:25</td>\n",
       "      <td>photo</td>\n",
       "      <td>Studying</td>\n",
       "    </tr>\n",
       "    <tr>\n",
       "      <th>...</th>\n",
       "      <td>...</td>\n",
       "      <td>...</td>\n",
       "      <td>...</td>\n",
       "      <td>...</td>\n",
       "      <td>...</td>\n",
       "    </tr>\n",
       "    <tr>\n",
       "      <th>24568</th>\n",
       "      <td>75d6b589-7fae-4a6d-b0d0-752845150e56</td>\n",
       "      <td>dislike</td>\n",
       "      <td>27-06-2020 09:46</td>\n",
       "      <td>audio</td>\n",
       "      <td>technology</td>\n",
       "    </tr>\n",
       "    <tr>\n",
       "      <th>24569</th>\n",
       "      <td>75d6b589-7fae-4a6d-b0d0-752845150e56</td>\n",
       "      <td>intrigued</td>\n",
       "      <td>16-02-2021 17:17</td>\n",
       "      <td>audio</td>\n",
       "      <td>technology</td>\n",
       "    </tr>\n",
       "    <tr>\n",
       "      <th>24570</th>\n",
       "      <td>75d6b589-7fae-4a6d-b0d0-752845150e56</td>\n",
       "      <td>interested</td>\n",
       "      <td>12-09-2020 03:54</td>\n",
       "      <td>audio</td>\n",
       "      <td>technology</td>\n",
       "    </tr>\n",
       "    <tr>\n",
       "      <th>24571</th>\n",
       "      <td>75d6b589-7fae-4a6d-b0d0-752845150e56</td>\n",
       "      <td>worried</td>\n",
       "      <td>04-11-2020 20:08</td>\n",
       "      <td>audio</td>\n",
       "      <td>technology</td>\n",
       "    </tr>\n",
       "    <tr>\n",
       "      <th>24572</th>\n",
       "      <td>75d6b589-7fae-4a6d-b0d0-752845150e56</td>\n",
       "      <td>cherish</td>\n",
       "      <td>04-01-2021 04:55</td>\n",
       "      <td>audio</td>\n",
       "      <td>technology</td>\n",
       "    </tr>\n",
       "  </tbody>\n",
       "</table>\n",
       "<p>24573 rows × 5 columns</p>\n",
       "</div>"
      ],
      "text/plain": [
       "                                 Content ID Reaction Type          Datetime  \\\n",
       "0      97522e57-d9ab-4bd6-97bf-c24d952602d2       disgust  07-11-2020 09:43   \n",
       "1      97522e57-d9ab-4bd6-97bf-c24d952602d2       dislike  17-06-2021 12:22   \n",
       "2      97522e57-d9ab-4bd6-97bf-c24d952602d2        scared  18-04-2021 05:13   \n",
       "3      97522e57-d9ab-4bd6-97bf-c24d952602d2       disgust  06-01-2021 19:13   \n",
       "4      97522e57-d9ab-4bd6-97bf-c24d952602d2    interested  23-08-2020 12:25   \n",
       "...                                     ...           ...               ...   \n",
       "24568  75d6b589-7fae-4a6d-b0d0-752845150e56       dislike  27-06-2020 09:46   \n",
       "24569  75d6b589-7fae-4a6d-b0d0-752845150e56     intrigued  16-02-2021 17:17   \n",
       "24570  75d6b589-7fae-4a6d-b0d0-752845150e56    interested  12-09-2020 03:54   \n",
       "24571  75d6b589-7fae-4a6d-b0d0-752845150e56       worried  04-11-2020 20:08   \n",
       "24572  75d6b589-7fae-4a6d-b0d0-752845150e56       cherish  04-01-2021 04:55   \n",
       "\n",
       "      Content Type    Category  \n",
       "0            photo    Studying  \n",
       "1            photo    Studying  \n",
       "2            photo    Studying  \n",
       "3            photo    Studying  \n",
       "4            photo    Studying  \n",
       "...            ...         ...  \n",
       "24568        audio  technology  \n",
       "24569        audio  technology  \n",
       "24570        audio  technology  \n",
       "24571        audio  technology  \n",
       "24572        audio  technology  \n",
       "\n",
       "[24573 rows x 5 columns]"
      ]
     },
     "execution_count": 10,
     "metadata": {},
     "output_type": "execute_result"
    }
   ],
   "source": [
    "final = pd.merge(df2,df1)\n",
    "final"
   ]
  },
  {
   "cell_type": "code",
   "execution_count": 11,
   "id": "15d0909c",
   "metadata": {},
   "outputs": [],
   "source": [
    "final1 = pd.merge(final,df3)"
   ]
  },
  {
   "cell_type": "code",
   "execution_count": 12,
   "id": "8c293434",
   "metadata": {},
   "outputs": [
    {
     "name": "stdout",
     "output_type": "stream",
     "text": [
      "                                 Content ID Reaction Type          Datetime  \\\n",
      "0      97522e57-d9ab-4bd6-97bf-c24d952602d2       disgust  07-11-2020 09:43   \n",
      "1      97522e57-d9ab-4bd6-97bf-c24d952602d2       disgust  06-01-2021 19:13   \n",
      "2      97522e57-d9ab-4bd6-97bf-c24d952602d2       disgust  09-04-2021 02:46   \n",
      "3      9f737e0a-3cdd-4d29-9d24-753f4e3be810       disgust  28-03-2021 21:15   \n",
      "4      230c4e4d-70c3-461d-b42c-ec09396efb3f       disgust  04-08-2020 05:40   \n",
      "...                                     ...           ...               ...   \n",
      "24568  435007a5-6261-4d8b-b0a4-55fdc189754b         adore  04-10-2020 22:26   \n",
      "24569  435007a5-6261-4d8b-b0a4-55fdc189754b         adore  18-09-2020 10:50   \n",
      "24570  4e4c9690-c013-4ee7-9e66-943d8cbd27b7         adore  31-10-2020 03:58   \n",
      "24571  4e4c9690-c013-4ee7-9e66-943d8cbd27b7         adore  25-06-2020 15:12   \n",
      "24572  4e4c9690-c013-4ee7-9e66-943d8cbd27b7         adore  17-12-2020 16:32   \n",
      "\n",
      "      Content Type        Category Sentiment  Score  \n",
      "0            photo        Studying  negative      0  \n",
      "1            photo        Studying  negative      0  \n",
      "2            photo        Studying  negative      0  \n",
      "3            photo  healthy eating  negative      0  \n",
      "4            photo  healthy eating  negative      0  \n",
      "...            ...             ...       ...    ...  \n",
      "24568        audio        veganism  positive     72  \n",
      "24569        audio        veganism  positive     72  \n",
      "24570          GIF         culture  positive     72  \n",
      "24571          GIF         culture  positive     72  \n",
      "24572          GIF         culture  positive     72  \n",
      "\n",
      "[24573 rows x 7 columns]\n"
     ]
    }
   ],
   "source": [
    "print(final1)"
   ]
  },
  {
   "cell_type": "code",
   "execution_count": 13,
   "id": "7bfc3cc9",
   "metadata": {},
   "outputs": [],
   "source": [
    "category_scores = final1.groupby('Category')['Score'].sum().reset_index()\n"
   ]
  },
  {
   "cell_type": "code",
   "execution_count": 14,
   "id": "237bef1a",
   "metadata": {},
   "outputs": [
    {
     "name": "stdout",
     "output_type": "stream",
     "text": [
      "          Category  Score\n",
      "13         animals  71242\n",
      "20  healthy eating  69067\n",
      "25      technology  68521\n",
      "22         science  66549\n",
      "15         culture  64952\n"
     ]
    }
   ],
   "source": [
    "category_scores_sorted = category_scores.sort_values(by='Score', ascending=False)\n",
    "print(category_scores_sorted.head())"
   ]
  },
  {
   "cell_type": "code",
   "execution_count": 15,
   "id": "f1abc42d",
   "metadata": {},
   "outputs": [
    {
     "name": "stdout",
     "output_type": "stream",
     "text": [
      "          Category  Score\n",
      "13         animals  71242\n",
      "20  healthy eating  69067\n",
      "25      technology  68521\n",
      "22         science  66549\n",
      "15         culture  64952\n"
     ]
    }
   ],
   "source": [
    "top_category = category_scores_sorted.head()\n",
    "print(top_category)"
   ]
  },
  {
   "cell_type": "code",
   "execution_count": 18,
   "id": "0a803d11",
   "metadata": {},
   "outputs": [],
   "source": [
    "import matplotlib.pyplot as plt"
   ]
  },
  {
   "cell_type": "code",
   "execution_count": 19,
   "id": "250f777d",
   "metadata": {},
   "outputs": [
    {
     "data": {
      "image/png": "[encoded data removed]",
      "text/plain": [
       "<Figure size 640x480 with 1 Axes>"
      ]
     },
     "metadata": {},
     "output_type": "display_data"
    }
   ],
   "source": [
    "top_category.plot(kind = \"bar\")\n",
    "plt.show()"
   ]
  },
  {
   "cell_type": "code",
   "execution_count": null,
   "id": "30600a5a",
   "metadata": {},
   "outputs": [],
   "source": []
  },
  {
   "cell_type": "code",
   "execution_count": null,
   "id": "0fa93567",
   "metadata": {},
   "outputs": [],
   "source": []
  }
 ],
 "metadata": {
  "kernelspec": {
   "display_name": "Python 3 (ipykernel)",
   "language": "python",
   "name": "python3"
  },
  "language_info": {
   "codemirror_mode": {
    "name": "ipython",
    "version": 3
   },
   "file_extension": ".py",
   "mimetype": "text/x-python",
   "name": "python",
   "nbconvert_exporter": "python",
   "pygments_lexer": "ipython3",
   "version": "3.9.13"
  }
 },
 "nbformat": 4,
 "nbformat_minor": 5
}
